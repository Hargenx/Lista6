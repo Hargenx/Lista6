{
  "cells": [
    {
      "cell_type": "markdown",
      "metadata": {
        "id": "KpOFKSpZMayY"
      },
      "source": [
        "# Lista 6\n",
        "\n",
        "Modelo CER de ativos correlacionados\n",
        "1. Importar dados do Yahoo contendo a série histórica dos últimos 12 meses das\n",
        "ações da Petrobrás, Vale, Ambev e Banco do Brasil.\n",
        "2. Estime os parâmetros do modelo CER de cada um dos ativos\n",
        "3. Verifique a sua normalidade\n",
        "4. Calcule a matriz de correlação empirica entre esses ativos.\n",
        "5. Compare os resultados da simulação MC do CER correlacionado com os respectivos dados históricos.\n",
        "6. Estime os valores dos ativos em Dezembro/2024"
      ]
    },
    {
      "cell_type": "markdown",
      "metadata": {
        "id": "mJTuZow_RyGm"
      },
      "source": [
        "## 1. Importar Dados do Yahoo Finance"
      ]
    },
    {
      "cell_type": "markdown",
      "metadata": {
        "id": "0eBmkfoqLwKx"
      },
      "source": [
        "- Utilizando a biblioteca quantmod para obter os dados históricos dos últimos 12 meses das ações da Petrobrás (PETR4.SA), Vale (VALE3.SA), Ambev (ABEV3.SA) e Banco do Brasil (BBAS3.SA)."
      ]
    },
    {
      "cell_type": "markdown",
      "metadata": {
        "id": "i_nVcSmMRBCG"
      },
      "source": [
        "### Instalar e carregar as bibliotecas necessárias\n",
        "\n",
        "- [quantmod](https://www.quantmod.com)\n",
        "  - Uso: Para importar dados financeiros históricos de várias fontes, incluindo Yahoo Finance. Utilizamos essa biblioteca para obter os preços ajustados das ações da Petrobrás, Vale, Ambev e Banco do Brasil.\n",
        "- [tseries](https://uribo.github.io/rpkg_showcase/date_and_time/tseries.html)\n",
        "  - Uso: Para realizar testes estatísticos. Utilizamos essa biblioteca para aplicar o teste de Jarque-Bera e verificar a normalidade dos retornos dos ativos.\n",
        "- [PerformanceAnalytics](https://github.com/braverock/PerformanceAnalytics)\n",
        "  - Uso: Para realizar análises de desempenho de investimentos. Utilizamos essa biblioteca para calcular retornos e realizar outras operações relacionadas a desempenho de ativos financeiros.\n",
        "- [MASS](https://www.stats.ox.ac.uk/pub/MASS4/)\n",
        "  - Uso: Para gerar amostras de distribuições multivariadas. Utilizamos essa biblioteca para simular retornos futuros dos ativos utilizando a matriz de covariância estimada."
      ]
    },
    {
      "cell_type": "code",
      "execution_count": 2,
      "metadata": {
        "colab": {
          "base_uri": "https://localhost:8080/"
        },
        "id": "ANIF_U5YLqUe",
        "outputId": "b787adbb-d733-4d83-c698-5135965150ab",
        "vscode": {
          "languageId": "r"
        }
      },
      "outputs": [
        {
          "name": "stderr",
          "output_type": "stream",
          "text": [
            "Installing package into ‘/usr/local/lib/R/site-library’\n",
            "(as ‘lib’ is unspecified)\n",
            "\n",
            "Installing package into ‘/usr/local/lib/R/site-library’\n",
            "(as ‘lib’ is unspecified)\n",
            "\n",
            "Installing package into ‘/usr/local/lib/R/site-library’\n",
            "(as ‘lib’ is unspecified)\n",
            "\n",
            "Installing package into ‘/usr/local/lib/R/site-library’\n",
            "(as ‘lib’ is unspecified)\n",
            "\n"
          ]
        }
      ],
      "source": [
        "install.packages(\"quantmod\")\n",
        "install.packages(\"tseries\")\n",
        "install.packages(\"PerformanceAnalytics\")\n",
        "install.packages(\"MASS\")"
      ]
    },
    {
      "cell_type": "code",
      "execution_count": 3,
      "metadata": {
        "colab": {
          "base_uri": "https://localhost:8080/"
        },
        "id": "TErZY-IcM5p4",
        "outputId": "77e61d88-5822-4177-b918-8e719a77a384",
        "vscode": {
          "languageId": "r"
        }
      },
      "outputs": [
        {
          "name": "stderr",
          "output_type": "stream",
          "text": [
            "Loading required package: xts\n",
            "\n",
            "Loading required package: zoo\n",
            "\n",
            "\n",
            "Attaching package: ‘zoo’\n",
            "\n",
            "\n",
            "The following objects are masked from ‘package:base’:\n",
            "\n",
            "    as.Date, as.Date.numeric\n",
            "\n",
            "\n",
            "Loading required package: TTR\n",
            "\n",
            "Registered S3 method overwritten by 'quantmod':\n",
            "  method            from\n",
            "  as.zoo.data.frame zoo \n",
            "\n",
            "\n",
            "Attaching package: ‘PerformanceAnalytics’\n",
            "\n",
            "\n",
            "The following object is masked from ‘package:graphics’:\n",
            "\n",
            "    legend\n",
            "\n",
            "\n"
          ]
        }
      ],
      "source": [
        "library(quantmod)\n",
        "library(tseries)\n",
        "library(PerformanceAnalytics)\n",
        "library(MASS)"
      ]
    },
    {
      "cell_type": "markdown",
      "metadata": {
        "id": "Ab064hL6RDuB"
      },
      "source": [
        "### Definir os símbolos dos ativos"
      ]
    },
    {
      "cell_type": "code",
      "execution_count": 4,
      "metadata": {
        "id": "Wpam9dMtRKXR",
        "vscode": {
          "languageId": "r"
        }
      },
      "outputs": [],
      "source": [
        "simbolos <- c(\"PETR4.SA\", \"VALE3.SA\", \"ABEV3.SA\", \"BBAS3.SA\")"
      ]
    },
    {
      "cell_type": "markdown",
      "metadata": {
        "id": "VjyYY3R5ROhQ"
      },
      "source": [
        "### Obter os dados dos últimos 12 meses"
      ]
    },
    {
      "cell_type": "code",
      "execution_count": 5,
      "metadata": {
        "colab": {
          "base_uri": "https://localhost:8080/",
          "height": 34
        },
        "id": "0_MuwKGbRTis",
        "outputId": "a463ef70-2681-481c-c562-5b8659f2f46d",
        "vscode": {
          "languageId": "r"
        }
      },
      "outputs": [
        {
          "data": {
            "text/html": [
              "<style>\n",
              ".list-inline {list-style: none; margin:0; padding: 0}\n",
              ".list-inline>li {display: inline-block}\n",
              ".list-inline>li:not(:last-child)::after {content: \"\\00b7\"; padding: 0 .5ex}\n",
              "</style>\n",
              "<ol class=list-inline><li>'PETR4.SA'</li><li>'VALE3.SA'</li><li>'ABEV3.SA'</li><li>'BBAS3.SA'</li></ol>\n"
            ],
            "text/latex": [
              "\\begin{enumerate*}\n",
              "\\item 'PETR4.SA'\n",
              "\\item 'VALE3.SA'\n",
              "\\item 'ABEV3.SA'\n",
              "\\item 'BBAS3.SA'\n",
              "\\end{enumerate*}\n"
            ],
            "text/markdown": [
              "1. 'PETR4.SA'\n",
              "2. 'VALE3.SA'\n",
              "3. 'ABEV3.SA'\n",
              "4. 'BBAS3.SA'\n",
              "\n",
              "\n"
            ],
            "text/plain": [
              "[1] \"PETR4.SA\" \"VALE3.SA\" \"ABEV3.SA\" \"BBAS3.SA\""
            ]
          },
          "metadata": {},
          "output_type": "display_data"
        }
      ],
      "source": [
        "getSymbols(simbolos, src = \"yahoo\", from = Sys.Date() - 365, to = Sys.Date())"
      ]
    },
    {
      "cell_type": "markdown",
      "metadata": {
        "id": "iEGYlgihRXXg"
      },
      "source": [
        "### Fechar os preços ajustados"
      ]
    },
    {
      "cell_type": "code",
      "execution_count": 6,
      "metadata": {
        "id": "WxzGqfe-RjXz",
        "vscode": {
          "languageId": "r"
        }
      },
      "outputs": [],
      "source": [
        "precos <- do.call(merge, lapply(simbolos, function(sym) Ad(get(sym))))"
      ]
    },
    {
      "cell_type": "markdown",
      "metadata": {
        "id": "IKdUvBZ5Rpu1"
      },
      "source": [
        "### Visualizar os dados"
      ]
    },
    {
      "cell_type": "code",
      "execution_count": 7,
      "metadata": {
        "colab": {
          "base_uri": "https://localhost:8080/",
          "height": 260
        },
        "id": "kyGhIDgSRsx2",
        "outputId": "368b10ae-8b7d-463c-f044-5ff898acba0f",
        "vscode": {
          "languageId": "r"
        }
      },
      "outputs": [
        {
          "data": {
            "text/plain": [
              "           PETR4.SA.Adjusted VALE3.SA.Adjusted ABEV3.SA.Adjusted\n",
              "2023-05-29          21.64717          60.56482          14.02682\n",
              "2023-05-30          21.40385          59.13878          13.76073\n",
              "2023-05-31          21.18487          58.70638          13.69421\n",
              "2023-06-01          21.86615          59.94840          13.53265\n",
              "2023-06-02          22.04459          62.50605          13.74172\n",
              "2023-06-05          22.27979          61.99084          13.69421\n",
              "           BBAS3.SA.Adjusted\n",
              "2023-05-29          19.55960\n",
              "2023-05-30          19.72730\n",
              "2023-05-31          19.69200\n",
              "2023-06-01          19.74496\n",
              "2023-06-02          20.33999\n",
              "2023-06-05          20.46729"
            ]
          },
          "metadata": {},
          "output_type": "display_data"
        }
      ],
      "source": [
        "head(precos)"
      ]
    },
    {
      "cell_type": "markdown",
      "metadata": {
        "id": "XPr651VCRsJO"
      },
      "source": [
        "## 2. Estimar os Parâmetros do Modelo CER de Cada Ativo"
      ]
    },
    {
      "cell_type": "markdown",
      "metadata": {
        "id": "IV2_6olxR9EP"
      },
      "source": [
        "- Primeiro, vamos calcular os retornos logarítmicos dos preços ajustados. Em seguida, estimamos a média e a variância desses retornos."
      ]
    },
    {
      "cell_type": "markdown",
      "metadata": {
        "id": "A8I6UkJJSAiG"
      },
      "source": [
        "### Calcular retornos logarítmicos"
      ]
    },
    {
      "cell_type": "code",
      "execution_count": 8,
      "metadata": {
        "id": "7Doeit1hSDCM",
        "vscode": {
          "languageId": "r"
        }
      },
      "outputs": [],
      "source": [
        "retornos <- na.omit(diff(log(precos)))"
      ]
    },
    {
      "cell_type": "markdown",
      "metadata": {
        "id": "tkIiU1dJSFID"
      },
      "source": [
        "### Estimar os parâmetros do modelo CER"
      ]
    },
    {
      "cell_type": "code",
      "execution_count": 9,
      "metadata": {
        "id": "zOaA3UjYSJu7",
        "vscode": {
          "languageId": "r"
        }
      },
      "outputs": [],
      "source": [
        "medias <- colMeans(retornos)\n",
        "cov_matrix <- cov(retornos)"
      ]
    },
    {
      "cell_type": "markdown",
      "metadata": {
        "id": "G_6K3k3FSNkA"
      },
      "source": [
        "\n",
        "### Visualizar os parâmetros estimados"
      ]
    },
    {
      "cell_type": "code",
      "execution_count": 10,
      "metadata": {
        "colab": {
          "base_uri": "https://localhost:8080/",
          "height": 210
        },
        "id": "Pg1iyGy2SQNm",
        "outputId": "98188d9f-2c51-4dfb-d1f2-ed6e265cf8df",
        "vscode": {
          "languageId": "r"
        }
      },
      "outputs": [
        {
          "data": {
            "text/html": [
              "<style>\n",
              ".dl-inline {width: auto; margin:0; padding: 0}\n",
              ".dl-inline>dt, .dl-inline>dd {float: none; width: auto; display: inline-block}\n",
              ".dl-inline>dt::after {content: \":\\0020\"; padding-right: .5ex}\n",
              ".dl-inline>dt:not(:first-of-type) {padding-left: .5ex}\n",
              "</style><dl class=dl-inline><dt>PETR4.SA.Adjusted</dt><dd>0.00212731515349603</dd><dt>VALE3.SA.Adjusted</dt><dd>0.000291106024232103</dd><dt>ABEV3.SA.Adjusted</dt><dd>-0.000675939373734176</dd><dt>BBAS3.SA.Adjusted</dt><dd>0.00131712261458789</dd></dl>\n"
            ],
            "text/latex": [
              "\\begin{description*}\n",
              "\\item[PETR4.SA.Adjusted] 0.00212731515349603\n",
              "\\item[VALE3.SA.Adjusted] 0.000291106024232103\n",
              "\\item[ABEV3.SA.Adjusted] -0.000675939373734176\n",
              "\\item[BBAS3.SA.Adjusted] 0.00131712261458789\n",
              "\\end{description*}\n"
            ],
            "text/markdown": [
              "PETR4.SA.Adjusted\n",
              ":   0.00212731515349603VALE3.SA.Adjusted\n",
              ":   0.000291106024232103ABEV3.SA.Adjusted\n",
              ":   -0.000675939373734176BBAS3.SA.Adjusted\n",
              ":   0.00131712261458789\n",
              "\n"
            ],
            "text/plain": [
              "PETR4.SA.Adjusted VALE3.SA.Adjusted ABEV3.SA.Adjusted BBAS3.SA.Adjusted \n",
              "     0.0021273152      0.0002911060     -0.0006759394      0.0013171226 "
            ]
          },
          "metadata": {},
          "output_type": "display_data"
        },
        {
          "data": {
            "text/html": [
              "<table class=\"dataframe\">\n",
              "<caption>A matrix: 4 × 4 of type dbl</caption>\n",
              "<thead>\n",
              "\t<tr><th></th><th scope=col>PETR4.SA.Adjusted</th><th scope=col>VALE3.SA.Adjusted</th><th scope=col>ABEV3.SA.Adjusted</th><th scope=col>BBAS3.SA.Adjusted</th></tr>\n",
              "</thead>\n",
              "<tbody>\n",
              "\t<tr><th scope=row>PETR4.SA.Adjusted</th><td>3.527068e-04</td><td>5.952787e-05</td><td>1.315664e-06</td><td>6.958803e-05</td></tr>\n",
              "\t<tr><th scope=row>VALE3.SA.Adjusted</th><td>5.952787e-05</td><td>2.262752e-04</td><td>1.703152e-05</td><td>3.442413e-05</td></tr>\n",
              "\t<tr><th scope=row>ABEV3.SA.Adjusted</th><td>1.315664e-06</td><td>1.703152e-05</td><td>1.510995e-04</td><td>5.889585e-05</td></tr>\n",
              "\t<tr><th scope=row>BBAS3.SA.Adjusted</th><td>6.958803e-05</td><td>3.442413e-05</td><td>5.889585e-05</td><td>1.686199e-04</td></tr>\n",
              "</tbody>\n",
              "</table>\n"
            ],
            "text/latex": [
              "A matrix: 4 × 4 of type dbl\n",
              "\\begin{tabular}{r|llll}\n",
              "  & PETR4.SA.Adjusted & VALE3.SA.Adjusted & ABEV3.SA.Adjusted & BBAS3.SA.Adjusted\\\\\n",
              "\\hline\n",
              "\tPETR4.SA.Adjusted & 3.527068e-04 & 5.952787e-05 & 1.315664e-06 & 6.958803e-05\\\\\n",
              "\tVALE3.SA.Adjusted & 5.952787e-05 & 2.262752e-04 & 1.703152e-05 & 3.442413e-05\\\\\n",
              "\tABEV3.SA.Adjusted & 1.315664e-06 & 1.703152e-05 & 1.510995e-04 & 5.889585e-05\\\\\n",
              "\tBBAS3.SA.Adjusted & 6.958803e-05 & 3.442413e-05 & 5.889585e-05 & 1.686199e-04\\\\\n",
              "\\end{tabular}\n"
            ],
            "text/markdown": [
              "\n",
              "A matrix: 4 × 4 of type dbl\n",
              "\n",
              "| <!--/--> | PETR4.SA.Adjusted | VALE3.SA.Adjusted | ABEV3.SA.Adjusted | BBAS3.SA.Adjusted |\n",
              "|---|---|---|---|---|\n",
              "| PETR4.SA.Adjusted | 3.527068e-04 | 5.952787e-05 | 1.315664e-06 | 6.958803e-05 |\n",
              "| VALE3.SA.Adjusted | 5.952787e-05 | 2.262752e-04 | 1.703152e-05 | 3.442413e-05 |\n",
              "| ABEV3.SA.Adjusted | 1.315664e-06 | 1.703152e-05 | 1.510995e-04 | 5.889585e-05 |\n",
              "| BBAS3.SA.Adjusted | 6.958803e-05 | 3.442413e-05 | 5.889585e-05 | 1.686199e-04 |\n",
              "\n"
            ],
            "text/plain": [
              "                  PETR4.SA.Adjusted VALE3.SA.Adjusted ABEV3.SA.Adjusted\n",
              "PETR4.SA.Adjusted 3.527068e-04      5.952787e-05      1.315664e-06     \n",
              "VALE3.SA.Adjusted 5.952787e-05      2.262752e-04      1.703152e-05     \n",
              "ABEV3.SA.Adjusted 1.315664e-06      1.703152e-05      1.510995e-04     \n",
              "BBAS3.SA.Adjusted 6.958803e-05      3.442413e-05      5.889585e-05     \n",
              "                  BBAS3.SA.Adjusted\n",
              "PETR4.SA.Adjusted 6.958803e-05     \n",
              "VALE3.SA.Adjusted 3.442413e-05     \n",
              "ABEV3.SA.Adjusted 5.889585e-05     \n",
              "BBAS3.SA.Adjusted 1.686199e-04     "
            ]
          },
          "metadata": {},
          "output_type": "display_data"
        }
      ],
      "source": [
        "medias\n",
        "cov_matrix"
      ]
    },
    {
      "cell_type": "markdown",
      "metadata": {
        "id": "LbZJonZvSVaI"
      },
      "source": [
        "## 3. Verificar a Normalidade"
      ]
    },
    {
      "cell_type": "markdown",
      "metadata": {
        "id": "cHodCGXwSawU"
      },
      "source": [
        "- Vamos utilizar o teste de Jarque-Bera para verificar a normalidade dos retornos."
      ]
    },
    {
      "cell_type": "markdown",
      "metadata": {
        "id": "vvM4hg8zShta"
      },
      "source": [
        "### Testar normalidade dos retornos"
      ]
    },
    {
      "cell_type": "code",
      "execution_count": 11,
      "metadata": {
        "id": "OQkUlgjQSnrI",
        "vscode": {
          "languageId": "r"
        }
      },
      "outputs": [],
      "source": [
        "testes_normalidade <- apply(retornos, 2, jarque.bera.test)"
      ]
    },
    {
      "cell_type": "markdown",
      "metadata": {
        "id": "8j_pFnYfSp7d"
      },
      "source": [
        "### Visualizar os resultados dos testes de normalidade"
      ]
    },
    {
      "cell_type": "code",
      "execution_count": 12,
      "metadata": {
        "colab": {
          "base_uri": "https://localhost:8080/",
          "height": 555
        },
        "id": "taGn7isCSsKW",
        "outputId": "871fa15c-7897-4925-dcc4-cfa1683d12fd",
        "vscode": {
          "languageId": "r"
        }
      },
      "outputs": [
        {
          "data": {
            "text/plain": [
              "$PETR4.SA.Adjusted\n",
              "\n",
              "\tJarque Bera Test\n",
              "\n",
              "data:  newX[, i]\n",
              "X-squared = 198.38, df = 2, p-value < 2.2e-16\n",
              "\n",
              "\n",
              "$VALE3.SA.Adjusted\n",
              "\n",
              "\tJarque Bera Test\n",
              "\n",
              "data:  newX[, i]\n",
              "X-squared = 25.493, df = 2, p-value = 2.912e-06\n",
              "\n",
              "\n",
              "$ABEV3.SA.Adjusted\n",
              "\n",
              "\tJarque Bera Test\n",
              "\n",
              "data:  newX[, i]\n",
              "X-squared = 124.22, df = 2, p-value < 2.2e-16\n",
              "\n",
              "\n",
              "$BBAS3.SA.Adjusted\n",
              "\n",
              "\tJarque Bera Test\n",
              "\n",
              "data:  newX[, i]\n",
              "X-squared = 18.798, df = 2, p-value = 8.282e-05\n",
              "\n"
            ]
          },
          "metadata": {},
          "output_type": "display_data"
        }
      ],
      "source": [
        "testes_normalidade"
      ]
    },
    {
      "cell_type": "markdown",
      "metadata": {
        "id": "2sDuHiTkSwtP"
      },
      "source": [
        "## 4. Calcular a Matriz de Correlação Empírica"
      ]
    },
    {
      "cell_type": "markdown",
      "metadata": {
        "id": "tS8xVsuzSzth"
      },
      "source": [
        "- Vamos calcular a matriz de correlação entre os retornos dos ativos."
      ]
    },
    {
      "cell_type": "markdown",
      "metadata": {
        "id": "gskiwc2AS1_x"
      },
      "source": [
        "## Calcular matriz de correlação"
      ]
    },
    {
      "cell_type": "code",
      "execution_count": 13,
      "metadata": {
        "id": "6WcnnFohS5EE",
        "vscode": {
          "languageId": "r"
        }
      },
      "outputs": [],
      "source": [
        "cor_matrix <- cor(retornos)"
      ]
    },
    {
      "cell_type": "markdown",
      "metadata": {
        "id": "RNLuOnmNS7tg"
      },
      "source": [
        "### Visualizar matriz de correlação"
      ]
    },
    {
      "cell_type": "code",
      "execution_count": 14,
      "metadata": {
        "colab": {
          "base_uri": "https://localhost:8080/",
          "height": 192
        },
        "id": "4uSUGjzKS_dI",
        "outputId": "ae4580df-e6df-492b-b92e-23e8e8f4304c",
        "vscode": {
          "languageId": "r"
        }
      },
      "outputs": [
        {
          "data": {
            "text/html": [
              "<table class=\"dataframe\">\n",
              "<caption>A matrix: 4 × 4 of type dbl</caption>\n",
              "<thead>\n",
              "\t<tr><th></th><th scope=col>PETR4.SA.Adjusted</th><th scope=col>VALE3.SA.Adjusted</th><th scope=col>ABEV3.SA.Adjusted</th><th scope=col>BBAS3.SA.Adjusted</th></tr>\n",
              "</thead>\n",
              "<tbody>\n",
              "\t<tr><th scope=row>PETR4.SA.Adjusted</th><td>1.000000000</td><td>0.21071476</td><td>0.005699104</td><td>0.2853470</td></tr>\n",
              "\t<tr><th scope=row>VALE3.SA.Adjusted</th><td>0.210714757</td><td>1.00000000</td><td>0.092109314</td><td>0.1762342</td></tr>\n",
              "\t<tr><th scope=row>ABEV3.SA.Adjusted</th><td>0.005699104</td><td>0.09210931</td><td>1.000000000</td><td>0.3689767</td></tr>\n",
              "\t<tr><th scope=row>BBAS3.SA.Adjusted</th><td>0.285346965</td><td>0.17623417</td><td>0.368976659</td><td>1.0000000</td></tr>\n",
              "</tbody>\n",
              "</table>\n"
            ],
            "text/latex": [
              "A matrix: 4 × 4 of type dbl\n",
              "\\begin{tabular}{r|llll}\n",
              "  & PETR4.SA.Adjusted & VALE3.SA.Adjusted & ABEV3.SA.Adjusted & BBAS3.SA.Adjusted\\\\\n",
              "\\hline\n",
              "\tPETR4.SA.Adjusted & 1.000000000 & 0.21071476 & 0.005699104 & 0.2853470\\\\\n",
              "\tVALE3.SA.Adjusted & 0.210714757 & 1.00000000 & 0.092109314 & 0.1762342\\\\\n",
              "\tABEV3.SA.Adjusted & 0.005699104 & 0.09210931 & 1.000000000 & 0.3689767\\\\\n",
              "\tBBAS3.SA.Adjusted & 0.285346965 & 0.17623417 & 0.368976659 & 1.0000000\\\\\n",
              "\\end{tabular}\n"
            ],
            "text/markdown": [
              "\n",
              "A matrix: 4 × 4 of type dbl\n",
              "\n",
              "| <!--/--> | PETR4.SA.Adjusted | VALE3.SA.Adjusted | ABEV3.SA.Adjusted | BBAS3.SA.Adjusted |\n",
              "|---|---|---|---|---|\n",
              "| PETR4.SA.Adjusted | 1.000000000 | 0.21071476 | 0.005699104 | 0.2853470 |\n",
              "| VALE3.SA.Adjusted | 0.210714757 | 1.00000000 | 0.092109314 | 0.1762342 |\n",
              "| ABEV3.SA.Adjusted | 0.005699104 | 0.09210931 | 1.000000000 | 0.3689767 |\n",
              "| BBAS3.SA.Adjusted | 0.285346965 | 0.17623417 | 0.368976659 | 1.0000000 |\n",
              "\n"
            ],
            "text/plain": [
              "                  PETR4.SA.Adjusted VALE3.SA.Adjusted ABEV3.SA.Adjusted\n",
              "PETR4.SA.Adjusted 1.000000000       0.21071476        0.005699104      \n",
              "VALE3.SA.Adjusted 0.210714757       1.00000000        0.092109314      \n",
              "ABEV3.SA.Adjusted 0.005699104       0.09210931        1.000000000      \n",
              "BBAS3.SA.Adjusted 0.285346965       0.17623417        0.368976659      \n",
              "                  BBAS3.SA.Adjusted\n",
              "PETR4.SA.Adjusted 0.2853470        \n",
              "VALE3.SA.Adjusted 0.1762342        \n",
              "ABEV3.SA.Adjusted 0.3689767        \n",
              "BBAS3.SA.Adjusted 1.0000000        "
            ]
          },
          "metadata": {},
          "output_type": "display_data"
        }
      ],
      "source": [
        "cor_matrix"
      ]
    },
    {
      "cell_type": "markdown",
      "metadata": {
        "id": "NufDyfDdTC2y"
      },
      "source": [
        "## 5. Comparar Resultados da Simulação MC do CER Correlacionado com Dados Históricos"
      ]
    },
    {
      "cell_type": "markdown",
      "metadata": {
        "id": "WknrDKARTGjO"
      },
      "source": [
        "- Vamos simular os retornos dos ativos utilizando a matriz de correlação e comparar os resultados com os dados históricos."
      ]
    },
    {
      "cell_type": "markdown",
      "metadata": {
        "id": "mm2iVZX7TJ8W"
      },
      "source": [
        "### Número de simulações"
      ]
    },
    {
      "cell_type": "code",
      "execution_count": 15,
      "metadata": {
        "id": "kn0AgNsVTMzX",
        "vscode": {
          "languageId": "r"
        }
      },
      "outputs": [],
      "source": [
        "numero_simulacoes <- 10000\n",
        "numeros_ativos <- ncol(retornos)\n",
        "numero_periodos <- nrow(retornos)"
      ]
    },
    {
      "cell_type": "markdown",
      "metadata": {
        "id": "BiP93BFBTO2F"
      },
      "source": [
        "### Simular retornos futuros usando Monte Carlo"
      ]
    },
    {
      "cell_type": "code",
      "execution_count": 16,
      "metadata": {
        "id": "RYi5l2QTTSFV",
        "vscode": {
          "languageId": "r"
        }
      },
      "outputs": [],
      "source": [
        "set.seed(123)\n",
        "retornos_simulados <- mvrnorm(numero_simulacoes * numero_periodos,\n",
        "                              mu = medias, Sigma = cov_matrix)\n",
        "retornos_simulados <- matrix(retornos_simulados,\n",
        "                             ncol = numeros_ativos, byrow = TRUE)"
      ]
    },
    {
      "cell_type": "markdown",
      "metadata": {
        "id": "hK0hBOFhTUqT"
      },
      "source": [
        "### Comparar os retornos simulados com os retornos históricos"
      ]
    },
    {
      "cell_type": "code",
      "execution_count": 17,
      "metadata": {
        "id": "7Phz8KmkTV4z",
        "vscode": {
          "languageId": "r"
        }
      },
      "outputs": [],
      "source": [
        "media_simulada <- colMeans(retornos_simulados)\n",
        "simulada_cov_matrix <- cov(retornos_simulados)"
      ]
    },
    {
      "cell_type": "markdown",
      "metadata": {
        "id": "4IAZiTv2TZ0L"
      },
      "source": [
        "### Visualizar comparação"
      ]
    },
    {
      "cell_type": "code",
      "execution_count": 18,
      "metadata": {
        "colab": {
          "base_uri": "https://localhost:8080/",
          "height": 467
        },
        "id": "UBxPWPPtTXat",
        "outputId": "b74ef438-506a-416a-c3e0-eb851404d626",
        "vscode": {
          "languageId": "r"
        }
      },
      "outputs": [
        {
          "data": {
            "text/html": [
              "<dl>\n",
              "\t<dt>$MediaHistorica</dt>\n",
              "\t\t<dd><style>\n",
              ".dl-inline {width: auto; margin:0; padding: 0}\n",
              ".dl-inline>dt, .dl-inline>dd {float: none; width: auto; display: inline-block}\n",
              ".dl-inline>dt::after {content: \":\\0020\"; padding-right: .5ex}\n",
              ".dl-inline>dt:not(:first-of-type) {padding-left: .5ex}\n",
              "</style><dl class=dl-inline><dt>PETR4.SA.Adjusted</dt><dd>0.00212731515349603</dd><dt>VALE3.SA.Adjusted</dt><dd>0.000291106024232103</dd><dt>ABEV3.SA.Adjusted</dt><dd>-0.000675939373734176</dd><dt>BBAS3.SA.Adjusted</dt><dd>0.00131712261458789</dd></dl>\n",
              "</dd>\n",
              "\t<dt>$MediaSimulada</dt>\n",
              "\t\t<dd><style>\n",
              ".list-inline {list-style: none; margin:0; padding: 0}\n",
              ".list-inline>li {display: inline-block}\n",
              ".list-inline>li:not(:last-child)::after {content: \"\\00b7\"; padding: 0 .5ex}\n",
              "</style>\n",
              "<ol class=list-inline><li>0.000760597370562344</li><li>0.000766951555639074</li><li>0.000755327788769052</li><li>0.000760458946984248</li></ol>\n",
              "</dd>\n",
              "\t<dt>$CovarianciaHistorica</dt>\n",
              "\t\t<dd><table class=\"dataframe\">\n",
              "<caption>A matrix: 4 × 4 of type dbl</caption>\n",
              "<thead>\n",
              "\t<tr><th></th><th scope=col>PETR4.SA.Adjusted</th><th scope=col>VALE3.SA.Adjusted</th><th scope=col>ABEV3.SA.Adjusted</th><th scope=col>BBAS3.SA.Adjusted</th></tr>\n",
              "</thead>\n",
              "<tbody>\n",
              "\t<tr><th scope=row>PETR4.SA.Adjusted</th><td>3.527068e-04</td><td>5.952787e-05</td><td>1.315664e-06</td><td>6.958803e-05</td></tr>\n",
              "\t<tr><th scope=row>VALE3.SA.Adjusted</th><td>5.952787e-05</td><td>2.262752e-04</td><td>1.703152e-05</td><td>3.442413e-05</td></tr>\n",
              "\t<tr><th scope=row>ABEV3.SA.Adjusted</th><td>1.315664e-06</td><td>1.703152e-05</td><td>1.510995e-04</td><td>5.889585e-05</td></tr>\n",
              "\t<tr><th scope=row>BBAS3.SA.Adjusted</th><td>6.958803e-05</td><td>3.442413e-05</td><td>5.889585e-05</td><td>1.686199e-04</td></tr>\n",
              "</tbody>\n",
              "</table>\n",
              "</dd>\n",
              "\t<dt>$CovarianciaSimulada</dt>\n",
              "\t\t<dd><table class=\"dataframe\">\n",
              "<caption>A matrix: 4 × 4 of type dbl</caption>\n",
              "<tbody>\n",
              "\t<tr><td>2.257448e-04</td><td>1.251105e-06</td><td>1.166645e-06</td><td>8.933478e-07</td></tr>\n",
              "\t<tr><td>1.251105e-06</td><td>2.259429e-04</td><td>1.020872e-06</td><td>1.115110e-06</td></tr>\n",
              "\t<tr><td>1.166645e-06</td><td>1.020872e-06</td><td>2.257653e-04</td><td>8.558650e-07</td></tr>\n",
              "\t<tr><td>8.933478e-07</td><td>1.115110e-06</td><td>8.558650e-07</td><td>2.257816e-04</td></tr>\n",
              "</tbody>\n",
              "</table>\n",
              "</dd>\n",
              "</dl>\n"
            ],
            "text/latex": [
              "\\begin{description}\n",
              "\\item[\\$MediaHistorica] \\begin{description*}\n",
              "\\item[PETR4.SA.Adjusted] 0.00212731515349603\n",
              "\\item[VALE3.SA.Adjusted] 0.000291106024232103\n",
              "\\item[ABEV3.SA.Adjusted] -0.000675939373734176\n",
              "\\item[BBAS3.SA.Adjusted] 0.00131712261458789\n",
              "\\end{description*}\n",
              "\n",
              "\\item[\\$MediaSimulada] \\begin{enumerate*}\n",
              "\\item 0.000760597370562344\n",
              "\\item 0.000766951555639074\n",
              "\\item 0.000755327788769052\n",
              "\\item 0.000760458946984248\n",
              "\\end{enumerate*}\n",
              "\n",
              "\\item[\\$CovarianciaHistorica] A matrix: 4 × 4 of type dbl\n",
              "\\begin{tabular}{r|llll}\n",
              "  & PETR4.SA.Adjusted & VALE3.SA.Adjusted & ABEV3.SA.Adjusted & BBAS3.SA.Adjusted\\\\\n",
              "\\hline\n",
              "\tPETR4.SA.Adjusted & 3.527068e-04 & 5.952787e-05 & 1.315664e-06 & 6.958803e-05\\\\\n",
              "\tVALE3.SA.Adjusted & 5.952787e-05 & 2.262752e-04 & 1.703152e-05 & 3.442413e-05\\\\\n",
              "\tABEV3.SA.Adjusted & 1.315664e-06 & 1.703152e-05 & 1.510995e-04 & 5.889585e-05\\\\\n",
              "\tBBAS3.SA.Adjusted & 6.958803e-05 & 3.442413e-05 & 5.889585e-05 & 1.686199e-04\\\\\n",
              "\\end{tabular}\n",
              "\n",
              "\\item[\\$CovarianciaSimulada] A matrix: 4 × 4 of type dbl\n",
              "\\begin{tabular}{llll}\n",
              "\t 2.257448e-04 & 1.251105e-06 & 1.166645e-06 & 8.933478e-07\\\\\n",
              "\t 1.251105e-06 & 2.259429e-04 & 1.020872e-06 & 1.115110e-06\\\\\n",
              "\t 1.166645e-06 & 1.020872e-06 & 2.257653e-04 & 8.558650e-07\\\\\n",
              "\t 8.933478e-07 & 1.115110e-06 & 8.558650e-07 & 2.257816e-04\\\\\n",
              "\\end{tabular}\n",
              "\n",
              "\\end{description}\n"
            ],
            "text/markdown": [
              "$MediaHistorica\n",
              ":   PETR4.SA.Adjusted\n",
              ":   0.00212731515349603VALE3.SA.Adjusted\n",
              ":   0.000291106024232103ABEV3.SA.Adjusted\n",
              ":   -0.000675939373734176BBAS3.SA.Adjusted\n",
              ":   0.00131712261458789\n",
              "\n",
              "\n",
              "$MediaSimulada\n",
              ":   1. 0.000760597370562344\n",
              "2. 0.000766951555639074\n",
              "3. 0.000755327788769052\n",
              "4. 0.000760458946984248\n",
              "\n",
              "\n",
              "\n",
              "$CovarianciaHistorica\n",
              ":   \n",
              "A matrix: 4 × 4 of type dbl\n",
              "\n",
              "| <!--/--> | PETR4.SA.Adjusted | VALE3.SA.Adjusted | ABEV3.SA.Adjusted | BBAS3.SA.Adjusted |\n",
              "|---|---|---|---|---|\n",
              "| PETR4.SA.Adjusted | 3.527068e-04 | 5.952787e-05 | 1.315664e-06 | 6.958803e-05 |\n",
              "| VALE3.SA.Adjusted | 5.952787e-05 | 2.262752e-04 | 1.703152e-05 | 3.442413e-05 |\n",
              "| ABEV3.SA.Adjusted | 1.315664e-06 | 1.703152e-05 | 1.510995e-04 | 5.889585e-05 |\n",
              "| BBAS3.SA.Adjusted | 6.958803e-05 | 3.442413e-05 | 5.889585e-05 | 1.686199e-04 |\n",
              "\n",
              "\n",
              "$CovarianciaSimulada\n",
              ":   \n",
              "A matrix: 4 × 4 of type dbl\n",
              "\n",
              "| 2.257448e-04 | 1.251105e-06 | 1.166645e-06 | 8.933478e-07 |\n",
              "| 1.251105e-06 | 2.259429e-04 | 1.020872e-06 | 1.115110e-06 |\n",
              "| 1.166645e-06 | 1.020872e-06 | 2.257653e-04 | 8.558650e-07 |\n",
              "| 8.933478e-07 | 1.115110e-06 | 8.558650e-07 | 2.257816e-04 |\n",
              "\n",
              "\n",
              "\n",
              "\n"
            ],
            "text/plain": [
              "$MediaHistorica\n",
              "PETR4.SA.Adjusted VALE3.SA.Adjusted ABEV3.SA.Adjusted BBAS3.SA.Adjusted \n",
              "     0.0021273152      0.0002911060     -0.0006759394      0.0013171226 \n",
              "\n",
              "$MediaSimulada\n",
              "[1] 0.0007605974 0.0007669516 0.0007553278 0.0007604589\n",
              "\n",
              "$CovarianciaHistorica\n",
              "                  PETR4.SA.Adjusted VALE3.SA.Adjusted ABEV3.SA.Adjusted\n",
              "PETR4.SA.Adjusted      3.527068e-04      5.952787e-05      1.315664e-06\n",
              "VALE3.SA.Adjusted      5.952787e-05      2.262752e-04      1.703152e-05\n",
              "ABEV3.SA.Adjusted      1.315664e-06      1.703152e-05      1.510995e-04\n",
              "BBAS3.SA.Adjusted      6.958803e-05      3.442413e-05      5.889585e-05\n",
              "                  BBAS3.SA.Adjusted\n",
              "PETR4.SA.Adjusted      6.958803e-05\n",
              "VALE3.SA.Adjusted      3.442413e-05\n",
              "ABEV3.SA.Adjusted      5.889585e-05\n",
              "BBAS3.SA.Adjusted      1.686199e-04\n",
              "\n",
              "$CovarianciaSimulada\n",
              "             [,1]         [,2]         [,3]         [,4]\n",
              "[1,] 2.257448e-04 1.251105e-06 1.166645e-06 8.933478e-07\n",
              "[2,] 1.251105e-06 2.259429e-04 1.020872e-06 1.115110e-06\n",
              "[3,] 1.166645e-06 1.020872e-06 2.257653e-04 8.558650e-07\n",
              "[4,] 8.933478e-07 1.115110e-06 8.558650e-07 2.257816e-04\n"
            ]
          },
          "metadata": {},
          "output_type": "display_data"
        }
      ],
      "source": [
        "list(\n",
        "  MediaHistorica = medias,\n",
        "  MediaSimulada = media_simulada,\n",
        "  CovarianciaHistorica = cov_matrix,\n",
        "  CovarianciaSimulada = simulada_cov_matrix\n",
        ")"
      ]
    },
    {
      "cell_type": "markdown",
      "metadata": {
        "id": "kf80WWh1Tf7A"
      },
      "source": [
        "## 6. Estimar Valores dos Ativos em Dezembro/2024"
      ]
    },
    {
      "cell_type": "markdown",
      "metadata": {
        "id": "CeIrz7ueTips"
      },
      "source": [
        "- Vamos projetar os preços dos ativos para dezembro de 2024 utilizando os parâmetros estimados."
      ]
    },
    {
      "cell_type": "markdown",
      "metadata": {
        "id": "zUnPI-_wTmD-"
      },
      "source": [
        "### Período de projeção (restante do ano)"
      ]
    },
    {
      "cell_type": "code",
      "execution_count": 19,
      "metadata": {
        "id": "2YNKkYNvTpCN",
        "vscode": {
          "languageId": "r"
        }
      },
      "outputs": [],
      "source": [
        "periodo_projetado <- as.integer(difftime(as.Date(\"2024-12-31\"), Sys.Date(), units = \"days\"))"
      ]
    },
    {
      "cell_type": "markdown",
      "metadata": {
        "id": "RjvlfciJTr2h"
      },
      "source": [
        "### Estimar valores futuros usando a média e covariância dos retornos"
      ]
    },
    {
      "cell_type": "code",
      "execution_count": 21,
      "metadata": {
        "id": "TDx8-eEETuVr",
        "vscode": {
          "languageId": "r"
        }
      },
      "outputs": [],
      "source": [
        "precos_simulados <- matrix(0, nrow = numero_simulacoes, ncol = numeros_ativos)\n",
        "precos_atuais <- tail(precos, 1)"
      ]
    },
    {
      "cell_type": "code",
      "execution_count": 22,
      "metadata": {
        "id": "agaiq-JATw0h",
        "vscode": {
          "languageId": "r"
        }
      },
      "outputs": [],
      "source": [
        "for (i in 1:numero_simulacoes) {\n",
        "  retornos_futuros <- mvrnorm(periodo_projetado, mu = medias / 252, Sigma = cov_matrix / 252)\n",
        "  retornos_futuros_cum <- apply(retornos_futuros, 2, cumsum)\n",
        "  precos_simulados[i, ] <- precos_atuais * exp(tail(retornos_futuros_cum, 1))\n",
        "}"
      ]
    },
    {
      "cell_type": "markdown",
      "metadata": {
        "id": "KbU2ZpqYT0pa"
      },
      "source": [
        "### Estimar os valores médios futuros em dezembro/2024"
      ]
    },
    {
      "cell_type": "code",
      "execution_count": 23,
      "metadata": {
        "id": "HDnVYnEdT2yK",
        "vscode": {
          "languageId": "r"
        }
      },
      "outputs": [],
      "source": [
        "precos_futuros_estimados <- colMeans(precos_simulados)"
      ]
    },
    {
      "cell_type": "markdown",
      "metadata": {
        "id": "au0kcFoxT5cO"
      },
      "source": [
        "### Visualizar os valores estimados"
      ]
    },
    {
      "cell_type": "code",
      "execution_count": 24,
      "metadata": {
        "colab": {
          "base_uri": "https://localhost:8080/",
          "height": 224
        },
        "id": "zsGh8ntnT7pi",
        "outputId": "5d02a265-49c1-456e-d8a6-611a68000dd9",
        "vscode": {
          "languageId": "r"
        }
      },
      "outputs": [
        {
          "data": {
            "text/html": [
              "<table class=\"dataframe\">\n",
              "<caption>A data.frame: 4 × 3</caption>\n",
              "<thead>\n",
              "\t<tr><th scope=col>Ativos</th><th scope=col>PrecoAtuais</th><th scope=col>Preco_Futuro_Estimado</th></tr>\n",
              "\t<tr><th scope=col>&lt;chr&gt;</th><th scope=col>&lt;dbl&gt;</th><th scope=col>&lt;dbl&gt;</th></tr>\n",
              "</thead>\n",
              "<tbody>\n",
              "\t<tr><td>PETR4.SA</td><td>36.61</td><td>36.68369</td></tr>\n",
              "\t<tr><td>VALE3.SA</td><td>65.08</td><td>65.09555</td></tr>\n",
              "\t<tr><td>ABEV3.SA</td><td>11.87</td><td>11.86465</td></tr>\n",
              "\t<tr><td>BBAS3.SA</td><td>27.08</td><td>27.11357</td></tr>\n",
              "</tbody>\n",
              "</table>\n"
            ],
            "text/latex": [
              "A data.frame: 4 × 3\n",
              "\\begin{tabular}{lll}\n",
              " Ativos & PrecoAtuais & Preco\\_Futuro\\_Estimado\\\\\n",
              " <chr> & <dbl> & <dbl>\\\\\n",
              "\\hline\n",
              "\t PETR4.SA & 36.61 & 36.68369\\\\\n",
              "\t VALE3.SA & 65.08 & 65.09555\\\\\n",
              "\t ABEV3.SA & 11.87 & 11.86465\\\\\n",
              "\t BBAS3.SA & 27.08 & 27.11357\\\\\n",
              "\\end{tabular}\n"
            ],
            "text/markdown": [
              "\n",
              "A data.frame: 4 × 3\n",
              "\n",
              "| Ativos &lt;chr&gt; | PrecoAtuais &lt;dbl&gt; | Preco_Futuro_Estimado &lt;dbl&gt; |\n",
              "|---|---|---|\n",
              "| PETR4.SA | 36.61 | 36.68369 |\n",
              "| VALE3.SA | 65.08 | 65.09555 |\n",
              "| ABEV3.SA | 11.87 | 11.86465 |\n",
              "| BBAS3.SA | 27.08 | 27.11357 |\n",
              "\n"
            ],
            "text/plain": [
              "  Ativos   PrecoAtuais Preco_Futuro_Estimado\n",
              "1 PETR4.SA 36.61       36.68369             \n",
              "2 VALE3.SA 65.08       65.09555             \n",
              "3 ABEV3.SA 11.87       11.86465             \n",
              "4 BBAS3.SA 27.08       27.11357             "
            ]
          },
          "metadata": {},
          "output_type": "display_data"
        }
      ],
      "source": [
        "data.frame(\n",
        "  Ativos = simbolos,\n",
        "  PrecoAtuais = as.numeric(precos_atuais),\n",
        "  Preco_Futuro_Estimado = precos_futuros_estimados\n",
        ")"
      ]
    },
    {
      "cell_type": "markdown",
      "metadata": {
        "id": "ElwAq40_T9E0"
      },
      "source": [
        "## Resumo\n",
        "\n",
        "Este script em R segue os passos para importar dados históricos, estimar parâmetros do modelo CER, verificar a normalidade, calcular a matriz de correlação empírica, comparar simulações Monte Carlo com dados históricos e projetar preços futuros dos ativos."
      ]
    }
  ],
  "metadata": {
    "colab": {
      "provenance": []
    },
    "kernelspec": {
      "display_name": "R",
      "name": "ir"
    },
    "language_info": {
      "name": "R"
    }
  },
  "nbformat": 4,
  "nbformat_minor": 0
}
